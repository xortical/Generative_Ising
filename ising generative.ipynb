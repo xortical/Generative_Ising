{
 "cells": [
  {
   "cell_type": "markdown",
   "metadata": {},
   "source": [
    "### Ising Model Generative\n",
    "(Written by Debayan Dasgupta)\n",
    "\n",
    "A Work in progress to create a generative model based on Ising Model. 2D Ising models show phase transitions and are incredibly good at creating clumpy islands. 2D Ising models are used to study the evolution of domains of ferromagnetic materials. I believe this is the ideal model to use to generate creatures in cellular automata. The goal is to have AI generate structures (imagine gliders, oscillators and spaceships in Conway's Game of Life). "
   ]
  },
  {
   "cell_type": "code",
   "execution_count": 1,
   "metadata": {},
   "outputs": [],
   "source": [
    "%matplotlib inline\n",
    "import matplotlib.pyplot as plt\n",
    "import matplotlib.cm as cm\n",
    "import numpy as np\n"
   ]
  },
  {
   "cell_type": "markdown",
   "metadata": {},
   "source": [
    "I am using the same Ising Model class written in this github project(https://github.com/CorySimon/IsingModel)\n",
    "At some point this needs to be rewritten in pytorch to allow the autograd to work well. For the time being we'll work with a 2D rectangular grid with periodic boundary conditions."
   ]
  },
  {
   "cell_type": "code",
   "execution_count": 2,
   "metadata": {},
   "outputs": [],
   "source": [
    "class IsingGrid:\n",
    "    def __init__(self, height, width, extfield, invtemp):\n",
    "        self.width, self.height, self.extfield, self.invtemp = height, width, extfield, invtemp\n",
    "        self.grid = np.zeros([self.width, self.height], dtype=np.int8) + 1\n",
    "        \n",
    "    def plot(self):\n",
    "        plt.imshow(self.grid, cmap=cm.gray, aspect=\"equal\", interpolation=\"none\", vmin=-1, vmax=1)\n",
    "    \n",
    "    def make_random(self):\n",
    "        self.grid = (np.random.randint(0, 2, size = self.width * self.height).reshape(self.width, self.height) * 2) - 1\n",
    "    \n",
    "    def neighbours(self, x, y):\n",
    "        n = []\n",
    "        if x == 0:\n",
    "            n.append( (self.width-1, y) )\n",
    "        else:\n",
    "            n.append( (x-1, y) )\n",
    "        if x == self.width-1:\n",
    "            n.append( (0, y) )\n",
    "        else:\n",
    "            n.append( (x+1, y) )\n",
    "        if y == 0:\n",
    "            n.append( (x, self.height-1) )\n",
    "        else:\n",
    "            n.append( (x, y-1) )\n",
    "        if y == self.height-1:\n",
    "            n.append( (x, 0) )\n",
    "        else:\n",
    "            n.append( (x, y+1) )\n",
    "        return n\n",
    "    \n",
    "    def local_energy(self, x, y):\n",
    "        return self.extfield + sum( self.grid[xx,yy] for (xx, yy) in self.neighbours(x, y) )\n",
    "    \n",
    "    def total_energy(self):\n",
    "        # Could maybe do some numpy games here, but periodic boundary conditions make this tricky.\n",
    "        # This function is only ever useful for very small grids anyway.\n",
    "        energy = - self.extfield * np.sum(self.grid)\n",
    "        energy += - sum( self.grid[x, y] * sum( self.grid[xx, yy] for (xx, yy) in self.neighbours(x, y) )\n",
    "                        for x in range(self.width) for y in range(self.height) ) / 2\n",
    "        return energy\n",
    "    \n",
    "    def probability(self):\n",
    "        return np.exp( - self.invtemp * self.total_energy() )\n",
    "    \n",
    "    def gibbs_move(self):\n",
    "        n = np.random.randint(0, self.width * self.height)\n",
    "        y = n // self.width\n",
    "        x = n % self.width\n",
    "        p = 1 / (1 + np.exp(-2 * self.invtemp * self.local_energy(x,y)))\n",
    "        if np.random.random() <= p:\n",
    "            self.grid[x,y] = 1\n",
    "        else:\n",
    "            self.grid[x,y] = -1\n",
    "            \n",
    "    def from_number(self, n):\n",
    "        \"\"\"Convert an integer 0 <= n < 2**(width*height) into a grid.\"\"\"\n",
    "        binstring = bin(n)[2:]\n",
    "        binstring = \"0\" * (N - len(binstring)) + binstring\n",
    "        self.grid = np.array([int(x)*2-1 for x in binstring], dtype=np.int8).reshape(self.width, self.height)\n",
    "    \n",
    "    def to_number(self):\n",
    "        \"\"\"Convert grid into an integer.\"\"\"\n",
    "        flat = [self.grid[x, y] for x in range(self.width) for y in range(self.height)]\n",
    "        return sum(2**n * (int(x)+1)//2 for n, x in enumerate(reversed(flat)))"
   ]
  },
  {
   "cell_type": "code",
   "execution_count": 3,
   "metadata": {},
   "outputs": [
    {
     "data": {
      "image/png": "[encoded data removed]",
      "text/plain": [
       "<Figure size 432x288 with 1 Axes>"
      ]
     },
     "metadata": {
      "needs_background": "light"
     },
     "output_type": "display_data"
    }
   ],
   "source": [
    "gg = IsingGrid(20, 20, 0, .3)\n",
    "gg.make_random()\n",
    "gg.plot()"
   ]
  },
  {
   "cell_type": "code",
   "execution_count": 4,
   "metadata": {},
   "outputs": [
    {
     "data": {
      "image/png": "[encoded data removed]",
      "text/plain": [
       "<Figure size 432x288 with 1 Axes>"
      ]
     },
     "metadata": {
      "needs_background": "light"
     },
     "output_type": "display_data"
    }
   ],
   "source": [
    "for _ in range(100000):\n",
    "    gg.gibbs_move()\n",
    "gg.plot()"
   ]
  },
  {
   "cell_type": "markdown",
   "metadata": {},
   "source": [
    "# Denoising and loss function\n",
    "We are testing a custom loss function defined by the algo:\n",
    "\n",
    "$argmax({Train \\ast Train}) - argmax({Train \\ast Generated})$\n",
    "\n",
    "This is implemented below in the $c\\_loss$ function"
   ]
  },
  {
   "cell_type": "code",
   "execution_count": 5,
   "metadata": {},
   "outputs": [],
   "source": [
    "import torch\n",
    "import torch.nn as nn\n",
    "import torch.optim as optim\n",
    "import torch.nn.functional as F"
   ]
  },
  {
   "cell_type": "code",
   "execution_count": 6,
   "metadata": {},
   "outputs": [],
   "source": [
    "grid_size = 50\n",
    "n_steps = 100"
   ]
  },
  {
   "cell_type": "markdown",
   "metadata": {},
   "source": [
    "# Model\n",
    "Testing a very simple model. Complexity will be added later."
   ]
  },
  {
   "cell_type": "code",
   "execution_count": 7,
   "metadata": {},
   "outputs": [],
   "source": [
    "import torch.nn.functional as F\n",
    "class ConditionalLinear(nn.Module):\n",
    "    def __init__(self, num_in, num_out, n_steps):\n",
    "        super(ConditionalLinear, self).__init__()\n",
    "        self.num_out = num_out\n",
    "        self.lin = nn.Linear(num_in, num_out)\n",
    "        self.embed = nn.Embedding(n_steps, num_out)\n",
    "        self.embed.weight.data.uniform_()\n",
    "\n",
    "    def forward(self, x, y):\n",
    "        out = self.lin(x)\n",
    "        gamma = self.embed(y)\n",
    "        out = gamma.view(-1, self.num_out) * out\n",
    "        return out\n",
    "class ConditionalModel(nn.Module):\n",
    "    def __init__(self, n_steps):\n",
    "        super(ConditionalModel, self).__init__()\n",
    "        self.lin1 = ConditionalLinear(grid_size, 128, n_steps)\n",
    "        self.lin2 = ConditionalLinear(128, 128, n_steps)\n",
    "        self.lin3 = nn.Linear(128, grid_size)\n",
    "    \n",
    "    def forward(self, x, y):\n",
    "        x = F.softplus(self.lin1(x, y))\n",
    "        x = F.softplus(self.lin2(x, y))\n",
    "        return self.lin3(x)\n"
   ]
  },
  {
   "cell_type": "code",
   "execution_count": 8,
   "metadata": {},
   "outputs": [],
   "source": [
    "\n",
    "model = ConditionalModel(n_steps)\n",
    "optimizer = optim.Adam(model.parameters(), lr=1e-3)\n"
   ]
  },
  {
   "cell_type": "markdown",
   "metadata": {},
   "source": [
    "#### Loss function"
   ]
  },
  {
   "cell_type": "code",
   "execution_count": 9,
   "metadata": {},
   "outputs": [],
   "source": [
    "#self_convolve\n",
    "\n",
    "def c_loss(model,dataset):\n",
    "    #output = model(dataset,torch.tensor([0])).floor()+(model(dataset,torch.tensor([0])).floor()+1)\n",
    "    output = model(dataset,torch.tensor([0]))\n",
    "    orig = F.conv2d(dataset.reshape(1,1,grid_size,grid_size),dataset.reshape(1,1,grid_size,grid_size))\n",
    "    test = F.conv2d(output.reshape(1,1,grid_size,grid_size),dataset.reshape(1,1,grid_size,grid_size))\n",
    "    #torch.max(self_colvolve) - torch.max(gen_colvolve)\n",
    "    return abs(orig - test)\n"
   ]
  },
  {
   "cell_type": "code",
   "execution_count": 10,
   "metadata": {},
   "outputs": [
    {
     "data": {
      "image/png": "[encoded data removed]",
      "text/plain": [
       "<Figure size 432x288 with 1 Axes>"
      ]
     },
     "metadata": {
      "needs_background": "light"
     },
     "output_type": "display_data"
    }
   ],
   "source": [
    "gg = IsingGrid(grid_size, grid_size, 0, .3)\n",
    "gg.make_random()\n",
    "gg.plot()\n",
    "#convert gg.grid to tensor\n",
    "dataset = torch.Tensor(gg.grid).float()\n"
   ]
  },
  {
   "cell_type": "code",
   "execution_count": 11,
   "metadata": {
    "scrolled": true
   },
   "outputs": [
    {
     "data": {
      "image/png": "[encoded data removed]",
      "text/plain": [
       "<Figure size 432x288 with 1 Axes>"
      ]
     },
     "metadata": {
      "needs_background": "light"
     },
     "output_type": "display_data"
    }
   ],
   "source": [
    "gg.make_random()\n",
    "dataset = torch.Tensor(gg.grid).float()\n",
    "\n",
    "out = model(dataset,torch.tensor([0])).floor()+(model(dataset,torch.tensor([0])).floor()+1)\n",
    "plt.imshow(out.detach().numpy())\n",
    "\n",
    "for i in range(10000):\n",
    "    \n",
    "    # Compute the loss of the model from this batch\n",
    "    loss = c_loss(model, dataset)\n",
    "\n",
    "    # Before the backward pass, zero all of the network gradients\n",
    "    optimizer.zero_grad()\n",
    "\n",
    "    # Backward pass: compute gradient of the loss with respect to parameters\n",
    "    loss.backward()\n",
    "\n",
    "    # Perform gradient clipping\n",
    "    torch.nn.utils.clip_grad_norm_(model.parameters(), 1.)\n",
    "\n",
    "    # Calling the step function to update the parameters\n",
    "    optimizer.step()\n"
   ]
  },
  {
   "cell_type": "code",
   "execution_count": 12,
   "metadata": {},
   "outputs": [
    {
     "data": {
      "text/plain": [
       "array([[-1., -1., -1., ...,  0.,  0., -1.],\n",
       "       [-1., -1., -1., ...,  0.,  0., -1.],\n",
       "       [-1., -1., -1., ...,  0.,  0., -1.],\n",
       "       ...,\n",
       "       [-1., -1., -1., ...,  0.,  0., -1.],\n",
       "       [-1., -1., -1., ...,  0.,  0., -1.],\n",
       "       [-1., -1., -1., ...,  0.,  0., -1.]], dtype=float32)"
      ]
     },
     "execution_count": 12,
     "metadata": {},
     "output_type": "execute_result"
    }
   ],
   "source": [
    "out = model(dataset,torch.tensor([0])).floor()+(model(dataset,torch.tensor([0])).floor()+1)\n",
    "\n",
    "(out/out.max()).floor().detach().numpy()"
   ]
  },
  {
   "cell_type": "code",
   "execution_count": null,
   "metadata": {},
   "outputs": [],
   "source": []
  }
 ],
 "metadata": {
  "kernelspec": {
   "display_name": "Python 3",
   "language": "python",
   "name": "python3"
  },
  "language_info": {
   "codemirror_mode": {
    "name": "ipython",
    "version": 3
   },
   "file_extension": ".py",
   "mimetype": "text/x-python",
   "name": "python",
   "nbconvert_exporter": "python",
   "pygments_lexer": "ipython3",
   "version": "3.7.6"
  }
 },
 "nbformat": 4,
 "nbformat_minor": 1
}
